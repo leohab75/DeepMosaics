<<<<<<< HEAD
{"cells":[{"cell_type":"markdown","metadata":{"id":"Iu_qXI_FtBBY"},"source":["# Colab-DeepMosaics\n","\n","Original Github: [HypoX64/DeepMosaics](https://github.com/HypoX64/DeepMosaics)\n","\n","\n","This colab does work with a video by default, but it can also work with pictures."]},{"cell_type":"markdown","metadata":{"id":"AglydG5gvlDq"},"source":["Install *Dependensies:*"]},{"cell_type":"code","execution_count":null,"metadata":{"id":"2Wy_DVCJuHM0"},"outputs":[],"source":["!sudo apt update #&& sudo apt upgrade -y\n","!sudo apt install ffmpeg\n","#!pip3 install torch torchvision torchaudio --extra-index-url https://download.pytorch.org/whl/cu112\n","!pip3 install  opencv_python numpy torchvision torch matplotlib tensorboardX scikit-image "]},{"cell_type":"code","execution_count":null,"metadata":{"id":"T5mhzYhdow_Q"},"outputs":[],"source":["# Check your GPU\n","!nvidia-smi"]},{"cell_type":"code","execution_count":null,"metadata":{"id":"PSJnfMuWo0Qf"},"outputs":[],"source":["#@markdown # Connect Google Drive and copy video. You can change the input path if you want.\n","# Connect Google Drive, if you want to use Google Drive\n","import os\n","from google.colab import drive\n","drive.mount('/content/drive')\n","print('Google Drive connected.')\n"]},{"cell_type":"code","execution_count":null,"metadata":{"id":"oeEj2FZoncOt"},"outputs":[],"source":["#@markdown # Download DeepMosaics and models\n","#!git clone https://github.com/HypoX64/DeepMosaics.git\n","!pip install gdown --upgrade\n","!!gdown --folder --id \"1J9taziZG3_9RtPJrM9myOUnj0_iIedB-\"\n","!cp -r \"mosaic/\" /content/DeepMosaics/pretrained_models\n"]},{"cell_type":"code","execution_count":null,"metadata":{"id":"YgA9zKDm4e-5"},"outputs":[],"source":["#@markdown # Apply clean_youknow_video.pth and copy result back to Google Drive\n","input_path=\"\" #@param{type:\"string\"}\n","%cd /content/DeepMosaics/\n","! if [[ ! -d /content/drive/MyDrive/result ]]; then mkdir /content/drive/MyDrive/result ; fi\n","!python3 deepmosaic.py --media_path {input_path} --model_path \"/content/DeepMosaics/pretrained_models/mosaic/clean_youknow_video.pth\"  --result_dir \"/content/drive/MyDrive/result/\" --gpu_id 0 --no_preview\n","#@markdown # The output file is an MP4 on your Google drive in the /result folder\n"]}],"metadata":{"accelerator":"GPU","colab":{"private_outputs":true,"provenance":[{"file_id":"https://github.com/leohab75/DeepMosaics/blob/master/Colab_DeepMosaics.ipynb","timestamp":1670219940609}]},"gpuClass":"standard","kernelspec":{"display_name":"Python 3.10.6 64-bit","language":"python","name":"python3"},"language_info":{"name":"python","version":"3.10.6"},"vscode":{"interpreter":{"hash":"916dbcbb3f70747c44a77c7bcd40155683ae19c65e1c03b4aa3499c5328201f1"}}},"nbformat":4,"nbformat_minor":0}
=======
{
  "nbformat": 4,
  "nbformat_minor": 0,
  "metadata": {
    "colab": {
      "provenance": [],
      "private_outputs": true
    },
    "kernelspec": {
      "name": "python3",
      "display_name": "Python 3"
    },
    "accelerator": "GPU",
    "gpuClass": "standard"
  },
  "cells": [
    {
      "cell_type": "markdown",
      "metadata": {
        "id": "Iu_qXI_FtBBY"
      },
      "source": [
        "# Colab-DeepMosaics\n",
        "\n",
        "Original Github: [HypoX64/DeepMosaics](https://github.com/HypoX64/DeepMosaics)\n",
        "\n",
        "\n",
        "This colab does work with a video by default, but it can also work with pictures."
      ]
    },
    {
      "cell_type": "markdown",
      "source": [
        "Install *Dependensies:*"
      ],
      "metadata": {
        "id": "AglydG5gvlDq"
      }
    },
    {
      "cell_type": "code",
      "source": [
        "!sudo apt update #&& sudo apt upgrade -y\n",
        "!sudo apt install ffmpeg\n",
        "#!pip3 install torch torchvision torchaudio --extra-index-url https://download.pytorch.org/whl/cu112\n",
        "!pip3 install --upgrade opencv_python numpy torchvision torch matplotlib tensorboardX scikit-image "
      ],
      "metadata": {
        "id": "2Wy_DVCJuHM0"
      },
      "execution_count": null,
      "outputs": []
    },
    {
      "cell_type": "code",
      "metadata": {
        "id": "T5mhzYhdow_Q"
      },
      "source": [
        "# Check your GPU\n",
        "!nvidia-smi"
      ],
      "execution_count": null,
      "outputs": []
    },
    {
      "cell_type": "code",
      "metadata": {
        "id": "PSJnfMuWo0Qf"
      },
      "source": [
        "#@markdown # Connect Google Drive and copy video. You can change the input path if you want.\n",
        "# Connect Google Drive, if you want to use Google Drive\n",
        "import os\n",
        "from google.colab import drive\n",
        "drive.mount('/content/drive')\n",
        "print('Google Drive connected.')\n"
      ],
      "execution_count": null,
      "outputs": []
    },
    {
      "cell_type": "code",
      "metadata": {
        "id": "oeEj2FZoncOt"
      },
      "source": [
        "#@markdown # Download DeepMosaics and models\n",
        "!git clone https://github.com/HypoX64/DeepMosaics.git\n",
        "!pip install gdown\n",
        "!!gdown --folder --id \"1cHOk0GUnWoh3V3TEMvm9B4lwJ44M66yw\"\n",
        "!cp \"mosaic\" /content/DeepMosaics/pretrained_models\n",
        "!cp \"/content/drive/MyDrive/Colab Notebooks/mosaic_position.pth\" /content/DeepMosaics/pretrained_models\n"
      ],
      "execution_count": null,
      "outputs": []
    },
    {
      "cell_type": "code",
      "metadata": {
        "id": "YgA9zKDm4e-5"
      },
      "source": [
        "#@markdown # Apply clean_youknow_video.pth and copy result back to Google Drive\n",
        "!input_path=\"\" #@param{type:\"string\"}\n",
        "%cd /content/DeepMosaics/\n",
        "!python3 deepmosaic.py --media_path \"/content/drive/MyDrive/Colab Notebooks/3test.mp4\" --model_path \"/content/DeepMosaics/pretrained_models/clean_youknow_video.pth\"  --result_dir \"/content/drive/MyDrive/result/\" --gpu_id 0 --no_preview\n",
        "#@markdown # The output file is an MP4 on your Google drive in the /result folder\n"
      ],
      "execution_count": null,
      "outputs": []
    }
  ]
}
>>>>>>> origin/master
